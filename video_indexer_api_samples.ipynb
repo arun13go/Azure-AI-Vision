{
  "cells": [
    {
      "cell_type": "markdown",
      "source": [
        "### Video Indexer API Samples (Python)"
      ],
      "metadata": {}
    },
    {
      "cell_type": "markdown",
      "source": [
        "This notebooks provides samples for the following operations in Video Indexer:   \n",
        "(1) Get account detailes   \n",
        "(2) Upload a video from URL   \n",
        "(2A) Upload a video from local file   \n",
        "(3) Wait for the video to finish indexing   \n",
        "(4) Search for video and get insights   \n",
        "(5) Widgets API <br>\n",
        "(6) Get Video Insights <br>\n",
        "(7) Get Video transcription translation <br>\n",
        "(8) Store JSON payload into container   \n",
        "   \n",
        "Make sure you're logged-in with `az` to authenticate your account.   \n",
        "   \n",
        "Copy the `.env.example` file to a new file named `.env`, and update the values with your own account settings."
      ],
      "metadata": {}
    },
    {
      "cell_type": "code",
      "source": [
        "# install python dotenv\n",
        "%pip install python-dotenv\n",
        "\n",
        "# install Azure blob storage to upload the json file into storage container\n",
        "%pip install azure-storage-blob"
      ],
      "outputs": [
        {
          "output_type": "stream",
          "name": "stdout",
          "text": "Requirement already satisfied: python-dotenv in /anaconda/envs/azureml_py38/lib/python3.8/site-packages (1.0.0)\r\n"
        }
      ],
      "execution_count": 1,
      "metadata": {
        "jupyter": {
          "source_hidden": false,
          "outputs_hidden": false
        },
        "nteract": {
          "transient": {
            "deleting": false
          }
        },
        "gather": {
          "logged": 1704975345293
        },
        "editable": true,
        "run_control": {
          "frozen": false
        }
      }
    },
    {
      "cell_type": "code",
      "source": [
        "# login to Azure to access Video indexor portal\n",
        "!az login"
      ],
      "outputs": [],
      "execution_count": null,
      "metadata": {
        "jupyter": {
          "source_hidden": false,
          "outputs_hidden": false
        },
        "nteract": {
          "transient": {
            "deleting": false
          }
        },
        "gather": {
          "logged": 1704378057649
        }
      }
    },
    {
      "cell_type": "code",
      "source": [
        "# imports custom VI client\n",
        "from dotenv import dotenv_values\n",
        "from VideoIndexer.Consts import Consts\n",
        "from VideoIndexer.VideoIndexerClient import VideoIndexerClient"
      ],
      "outputs": [],
      "execution_count": 1,
      "metadata": {
        "gather": {
          "logged": 1706624131772
        }
      }
    },
    {
      "cell_type": "markdown",
      "source": [
        "Define the following parameters based on your account settings, in case they are different or not defined as environment variables:"
      ],
      "metadata": {}
    },
    {
      "cell_type": "code",
      "source": [
        "# load AI configuration from. env\n",
        "config = dotenv_values(\".env\")\n",
        "AccountName = config.get('AccountName')\n",
        "ResourceGroup = config.get('ResourceGroup')\n",
        "SubscriptionId = config.get('SubscriptionId')\n",
        "\n",
        "# print(AccountName)\n",
        "# print(ResourceGroup)\n",
        "# print(SubscriptionId)\n",
        "\n",
        "ApiVersion = '2024-01-01'\n",
        "ApiEndpoint = 'https://api.videoindexer.ai'\n",
        "AzureResourceManager = 'https://management.azure.com'\n",
        "\n",
        "# create and validate consts\n",
        "consts = Consts(ApiVersion, ApiEndpoint, AzureResourceManager, AccountName, ResourceGroup, SubscriptionId)\n",
        "\n",
        "\n",
        "# create Video Indexer Client\n",
        "client = VideoIndexerClient()\n",
        "\n",
        "\n",
        "# Get access tokens (arm and Video Indexer account)\n",
        "client.authenticate_async(consts)"
      ],
      "outputs": [],
      "execution_count": 2,
      "metadata": {
        "gather": {
          "logged": 1706624135276
        }
      }
    },
    {
      "cell_type": "markdown",
      "source": [
        "#### Sample 1 - Get Account Basic Details\n",
        "Get account details, not required in most cases."
      ],
      "metadata": {}
    },
    {
      "cell_type": "code",
      "source": [
        "client.get_account_async()"
      ],
      "outputs": [
        {
          "output_type": "stream",
          "name": "stdout",
          "text": "[Account Details] Id:3db49057-43b0-4a5e-9829-c4c8c9651170, Location: uksouth\n"
        }
      ],
      "execution_count": 3,
      "metadata": {
        "gather": {
          "logged": 1706624138939
        }
      }
    },
    {
      "cell_type": "markdown",
      "source": [
        "#### Sample 2 - Index a Video from URL\n",
        "Upload a video from URL, do not wait for the index operation to complete.   \n",
        "Define `videoUrl` and `ExcludedAI` first.   \n",
        "`ExcludedAI` - A list of the AIs you would like to exclude in the format `['Faces', 'Labels', 'Emotions','ObservedPeople']`. Leave empty if you do not want to exclude any AIs. For more details see [here](https://api-portal.videoindexer.ai/api-details#api=Operations&operation=Upload-Video:~:text=AI%20to%20exclude%20when%20indexing%2C%20for%20example%20for%20sensitive%20scenarios.%20Options%20are%3A%20Face/Observed%20peopleEmotions/Labels%7D)."
      ],
      "metadata": {}
    },
    {
      "cell_type": "code",
      "source": [
        "# Give sample Video file for indexing from blob storage or from any url\n",
        "# VideoUrl = 'https://mediaservicestr.blob.core.windows.net/sample-videos/Ukraine War_ Dramatic drone footage shows Russian convoy ambush-no audio.mp4'\n",
        "VideoUrl = 'xxxxxxx'\n",
        "ExcludedAI = []\n",
        "\n",
        "# VI detect the source language. Possible value 'auto', 'multi'\n",
        "# 'auto' - use when only one main langauage used in the video\n",
        "# 'multi' - use when only multiple langauage used in the video\n",
        "# source_lang = 'auto'\n",
        "source_lang = 'multi-language'\n",
        "video_id = client.upload_url_async('videoplayback-Mutli_Lang2', VideoUrl, ExcludedAI, False,source_lang)"
      ],
      "outputs": [],
      "execution_count": null,
      "metadata": {
        "gather": {
          "logged": 1706624160851
        }
      }
    },
    {
      "cell_type": "markdown",
      "source": [
        "#### Sample 2A - Index a Video From File\n",
        "Upload From Local File.   \n",
        "Define `LocalVideoPath` first."
      ],
      "metadata": {}
    },
    {
      "cell_type": "code",
      "source": [
        "# sample video file from local path\n",
        "LocalVideoPath = 'YOUR_LOCAL_VIDEO_FILE_PATH'\n",
        "\n",
        "file_video_id = client.file_upload_async(LocalVideoPath, 'my-other-video-name', ExcludedAI)"
      ],
      "outputs": [],
      "execution_count": null,
      "metadata": {
        "gather": {
          "logged": 1706547101643
        },
        "editable": false,
        "run_control": {
          "frozen": true
        }
      }
    },
    {
      "cell_type": "markdown",
      "source": [
        "#### Sample 3 - Polling on Video Completion Event\n",
        "Wait for the video index to finish (Polling method)."
      ],
      "metadata": {}
    },
    {
      "cell_type": "code",
      "source": [
        "# client.wait_for_index_async(file_video_id)\n",
        "\n",
        "# If you are using AI VI portal to upload sample video file copy video id from portal and config video_id name here\n",
        "# video_id =\"cec56c9fbc\"\n",
        "client.wait_for_index_async(video_id)"
      ],
      "outputs": [],
      "execution_count": null,
      "metadata": {
        "gather": {
          "logged": 1706624764367
        }
      }
    },
    {
      "cell_type": "markdown",
      "source": [
        "#### Sample 4 - Search for Video and Get insights\n",
        "Search for the video and get insights."
      ],
      "metadata": {}
    },
    {
      "cell_type": "code",
      "source": [
        "# get the VI response\n",
        "resp = client.get_video_async(video_id)\n",
        "print(\"resp****:\",resp)"
      ],
      "outputs": [],
      "execution_count": null,
      "metadata": {
        "gather": {
          "logged": 1706624800914
        }
      }
    },
    {
      "cell_type": "markdown",
      "source": [
        "#### Sample 5 - Widgets API"
      ],
      "metadata": {}
    },
    {
      "cell_type": "code",
      "source": [
        "# from IPython.display import display, HTML\n",
        "\n",
        "# client.get_insights_widgets_url_async(video_id, widget_type='Keywords')\n",
        "# client.get_player_widget_url_async(video_id)\n",
        "\n",
        "#response = client.get_video_insights_widgets_url_async(video_id, widget_type='People,Sentiments,Keywords,Transcript,NamedEntities,DetectedObjects')\n",
        "# response = client.get_video_insights_widgets_url_async(video_id, widget_type='People,Sentiments,Keywords')\n",
        "# print(\"respone ---->\",response)\n",
        "\n",
        "# display(HTML(str(response)))\n",
        "\n",
        "#client.get_insights_widgets_url_async('0645b0860f', widget_type='Keywords')\n",
        "#client.get_player_widget_url_async('0645b0860f')"
      ],
      "outputs": [],
      "execution_count": null,
      "metadata": {
        "gather": {
          "logged": 1705328890979
        },
        "editable": false,
        "run_control": {
          "frozen": true
        }
      }
    },
    {
      "cell_type": "markdown",
      "source": [
        "#### Sample 6 - Get Video Insights\n",
        "Get insights such as Caption, Transcription, Auto detect lang, Translation (from foreign lang -> English) ,Named entities ,Object identification <br>\n",
        "Store the insights as file into Azure Blob storage\n"
      ],
      "metadata": {
        "nteract": {
          "transient": {
            "deleting": false
          }
        }
      }
    },
    {
      "cell_type": "code",
      "source": [
        "# from IPython.display import display, HTML\n",
        "\n",
        "# get the VI transcription as JSON\n",
        "responseJSON = client.get_video_insights(video_id)\n",
        "print(\"respone ---->\",responseJSON)"
      ],
      "outputs": [],
      "execution_count": null,
      "metadata": {
        "jupyter": {
          "source_hidden": false,
          "outputs_hidden": false
        },
        "nteract": {
          "transient": {
            "deleting": false
          }
        },
        "gather": {
          "logged": 1706624806315
        }
      }
    },
    {
      "cell_type": "markdown",
      "source": [
        "#### Sample 7 - Get Video transcription translation\n",
        "Get video's transcription as translated to target langauge\n"
      ],
      "metadata": {
        "nteract": {
          "transient": {
            "deleting": false
          }
        }
      }
    },
    {
      "cell_type": "code",
      "source": [
        "# get the VI transcription as translated to target language in JSON \n",
        "target_lang = 'en-GB'\n",
        "responseJSON = client.get_video_transcription_translation(video_id,target_lang)\n",
        "print(\"respone ---->\",responseJSON)"
      ],
      "outputs": [],
      "execution_count": null,
      "metadata": {
        "jupyter": {
          "source_hidden": false,
          "outputs_hidden": false
        },
        "nteract": {
          "transient": {
            "deleting": false
          }
        },
        "gather": {
          "logged": 1706624818465
        }
      }
    },
    {
      "cell_type": "markdown",
      "source": [
        "#### Sample 8 - Store Video Insights\n",
        "Store the extracted insights as file into Azure Blob storage\n"
      ],
      "metadata": {
        "nteract": {
          "transient": {
            "deleting": false
          }
        }
      }
    },
    {
      "cell_type": "code",
      "source": [
        "# Write JSON response into blob storage\n",
        "# from azure.storage.blob import BlobServiceClient, BlobClient, ContainerClient\n",
        "import json\n",
        "filename = video_id+'-VIInsigtResponse.json' \n",
        "with open(filename, 'w') as f:\n",
        "    json.dump(responseJSON, f)\n"
      ],
      "outputs": [],
      "execution_count": 21,
      "metadata": {
        "jupyter": {
          "source_hidden": false,
          "outputs_hidden": false
        },
        "nteract": {
          "transient": {
            "deleting": false
          }
        },
        "gather": {
          "logged": 1706180224433
        }
      }
    },
    {
      "cell_type": "code",
      "source": [
        "\n",
        "# upload the response JSON file into blob storage\n",
        "\n",
        "import os\n",
        "import time\n",
        "\n",
        "from azure.identity import DefaultAzureCredential\n",
        "from azure.storage.blob.aio import BlobServiceClient, BlobClient, ContainerClient\n",
        "\n",
        "import asyncio\n",
        "\n",
        "from azure.identity.aio import DefaultAzureCredential\n",
        "from azure.storage.blob.aio import BlobServiceClient, BlobClient, ContainerClient\n",
        "\n",
        "\n",
        "from azure.storage.blob import BlobClient\n",
        "\n",
        "connection_str =\"xxxxxxx\"\n",
        "container_name = \"vi-response\"\n",
        "blob_name = f.name\n",
        "\n",
        "blob = BlobClient.from_connection_string(conn_str=connection_str, container_name=container_name, blob_name=blob_name)\n",
        "\n",
        "with open(filename, \"rb\") as data:\n",
        "    blob.upload_blob(data)"
      ],
      "outputs": [],
      "execution_count": null,
      "metadata": {
        "jupyter": {
          "source_hidden": false,
          "outputs_hidden": false
        },
        "nteract": {
          "transient": {
            "deleting": false
          }
        },
        "gather": {
          "logged": 1706176385920
        }
      }
    }
  ],
  "metadata": {
    "kernelspec": {
      "name": "newpython3.10",
      "language": "python",
      "display_name": "newPython3.10"
    },
    "language_info": {
      "name": "python",
      "version": "3.10.13",
      "mimetype": "text/x-python",
      "codemirror_mode": {
        "name": "ipython",
        "version": 3
      },
      "pygments_lexer": "ipython3",
      "nbconvert_exporter": "python",
      "file_extension": ".py"
    },
    "microsoft": {
      "ms_spell_check": {
        "ms_spell_check_language": "en"
      },
      "host": {
        "AzureML": {
          "notebookHasBeenCompleted": true
        }
      }
    },
    "kernel_info": {
      "name": "newpython3.10"
    },
    "nteract": {
      "version": "nteract-front-end@1.0.0"
    }
  },
  "nbformat": 4,
  "nbformat_minor": 2
}